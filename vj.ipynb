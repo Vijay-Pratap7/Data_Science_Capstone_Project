{
 "cells": [
  {
   "cell_type": "code",
   "execution_count": 1,
   "id": "f0b426fc-1548-468c-8cde-a626726b0ffd",
   "metadata": {},
   "outputs": [],
   "source": [
    "import numpy as np\n",
    "import pandas as pd\n",
    "from sklearn.model_selection import train_test_split\n",
    "from sklearn.preprocessing import LabelEncoder\n",
    "from sklearn.ensemble import RandomForestRegressor\n",
    "from sklearn.linear_model import LinearRegression, Ridge, Lasso\n",
    "from sklearn.neighbors import KNeighborsRegressor\n",
    "from sklearn.metrics import mean_absolute_error, mean_squared_error, r2_score\n",
    "import pickle"
   ]
  },
  {
   "cell_type": "code",
   "execution_count": 2,
   "id": "202d221a-4684-437e-b31a-23937d9694dd",
   "metadata": {},
   "outputs": [],
   "source": [
    "# Read the data\n",
    "df = pd.read_csv(\"CAR DETAILS.csv\")"
   ]
  },
  {
   "cell_type": "code",
   "execution_count": 3,
   "id": "f2e1eeef-f1ee-48d2-8614-4dbb17accf67",
   "metadata": {},
   "outputs": [],
   "source": [
    "# Drop duplicates\n",
    "df.drop_duplicates(inplace=True)"
   ]
  },
  {
   "cell_type": "code",
   "execution_count": 4,
   "id": "c189e01f-4dfc-4b90-9795-c8c67da1a05c",
   "metadata": {},
   "outputs": [],
   "source": [
    "# Feature engineering\n",
    "df[\"car_age\"] = 2023 - df[\"year\"]\n",
    "name = df[\"name\"].str.split(\" \", expand=True)\n",
    "df[\"car_maker\"] = name[0]\n",
    "df[\"car_model\"] = name[1]\n",
    "df.drop([\"name\"], axis=1, inplace=True)"
   ]
  },
  {
   "cell_type": "code",
   "execution_count": 5,
   "id": "55d5af94-b61d-425c-a8a7-d5c5d62f7ffd",
   "metadata": {},
   "outputs": [],
   "source": [
    "# Encoding categorical variables\n",
    "df = pd.get_dummies(df, drop_first=True)"
   ]
  },
  {
   "cell_type": "code",
   "execution_count": 6,
   "id": "9fddc2dc-f68b-464a-8ed2-d95d3112213a",
   "metadata": {},
   "outputs": [],
   "source": [
    "# Encoding target variable\n",
    "encoder = LabelEncoder()\n",
    "df[\"selling_price_encoded\"] = encoder.fit_transform(df[\"selling_price\"])"
   ]
  },
  {
   "cell_type": "code",
   "execution_count": 7,
   "id": "fac13a49-0719-4300-8a92-c9b8544b0fe2",
   "metadata": {},
   "outputs": [],
   "source": [
    "# Define features and target\n",
    "X = df.drop([\"selling_price\", \"selling_price_encoded\"], axis=1)\n",
    "y = df[\"selling_price_encoded\"]"
   ]
  },
  {
   "cell_type": "code",
   "execution_count": 8,
   "id": "df46c7b4-9b9a-499a-b073-ac7704980d63",
   "metadata": {},
   "outputs": [],
   "source": [
    "# Split the data into train and test sets\n",
    "X_train, X_test, y_train, y_test = train_test_split(X, y, test_size=0.2, random_state=42)"
   ]
  },
  {
   "cell_type": "code",
   "execution_count": 9,
   "id": "4a72fdad-2e0a-4dd9-9d88-768dacb60673",
   "metadata": {},
   "outputs": [],
   "source": [
    "# Define regression models\n",
    "models = {\n",
    "    \"Linear Regression\": LinearRegression(),\n",
    "    \"Ridge Regression\": Ridge(),\n",
    "    \"Lasso Regression\": Lasso(),\n",
    "    \"KNeighbors Regressor\": KNeighborsRegressor(),\n",
    "    \"Random Forest Regressor\": RandomForestRegressor()\n",
    "}"
   ]
  },
  {
   "cell_type": "code",
   "execution_count": 10,
   "id": "b017b58b-9dcf-4a26-812e-07ad829ef64c",
   "metadata": {},
   "outputs": [
    {
     "name": "stdout",
     "output_type": "stream",
     "text": [
      "Evaluating Linear Regression:\n",
      "Training Score: 0.8982205264647569\n",
      "Testing Score: 0.8597588068552894\n",
      "\n",
      "Evaluating Ridge Regression:\n",
      "Training Score: 0.8943175753802686\n",
      "Testing Score: 0.8648793076897621\n",
      "\n",
      "Evaluating Lasso Regression:\n",
      "Training Score: 0.6933451809912715\n",
      "Testing Score: 0.7000773476563515\n",
      "\n",
      "Evaluating KNeighbors Regressor:\n",
      "Training Score: 0.5934847108358561\n",
      "Testing Score: 0.4235616941128246\n",
      "\n",
      "Evaluating Random Forest Regressor:\n",
      "Training Score: 0.9768760437142111\n",
      "Testing Score: 0.8449970159894954\n",
      "\n"
     ]
    }
   ],
   "source": [
    "# Evaluate models\n",
    "best_model = None\n",
    "best_score = -np.inf\n",
    "for name, model in models.items():\n",
    "    print(f\"Evaluating {name}:\")\n",
    "    model.fit(X_train, y_train)\n",
    "    train_score = model.score(X_train, y_train)\n",
    "    test_score = model.score(X_test, y_test)\n",
    "    print(\"Training Score:\", train_score)\n",
    "    print(\"Testing Score:\", test_score)\n",
    "    if test_score > best_score:\n",
    "        best_model = model\n",
    "        best_score = test_score\n",
    "    print()"
   ]
  },
  {
   "cell_type": "code",
   "execution_count": 11,
   "id": "07d13416-0332-426e-9c40-4249ddc8ed4f",
   "metadata": {},
   "outputs": [],
   "source": [
    "# Save the best model\n",
    "with open('best_model.pkl', 'wb') as file:\n",
    "    pickle.dump(best_model, file)"
   ]
  },
  {
   "cell_type": "code",
   "execution_count": 12,
   "id": "0e8453a1-0080-4f88-837c-166aacfabb23",
   "metadata": {},
   "outputs": [],
   "source": [
    "# Create a sample random dataframe\n",
    "df_sample = df.sample(20, random_state=42)"
   ]
  },
  {
   "cell_type": "code",
   "execution_count": 13,
   "id": "a8d922a5-899b-49ee-9243-7d2c6b85a029",
   "metadata": {},
   "outputs": [],
   "source": [
    "# Split sample data into features and target\n",
    "X_sample = df_sample.drop([\"selling_price\", \"selling_price_encoded\"], axis=1)\n",
    "y_sample = df_sample[\"selling_price_encoded\"]"
   ]
  },
  {
   "cell_type": "code",
   "execution_count": 14,
   "id": "05aeb677-c87d-4bea-bec1-ee0337d601ae",
   "metadata": {},
   "outputs": [],
   "source": [
    "# Load the best model\n",
    "with open('best_model.pkl', 'rb') as file:\n",
    "    best_model = pickle.load(file)"
   ]
  },
  {
   "cell_type": "code",
   "execution_count": 15,
   "id": "b71ce190-f31e-439f-bacd-f2d22d24f527",
   "metadata": {},
   "outputs": [],
   "source": [
    "# Predict on sample data\n",
    "y_pred_sample = best_model.predict(X_sample)"
   ]
  },
  {
   "cell_type": "code",
   "execution_count": 16,
   "id": "486c44bf-c270-4901-8b69-f03509206f1b",
   "metadata": {},
   "outputs": [
    {
     "name": "stdout",
     "output_type": "stream",
     "text": [
      "Scores for main data:\n",
      "Training Score: 0.8943175753802686\n",
      "Testing Score: 0.8648793076897621\n",
      "R2 Score: 0.8648793076897621\n",
      "MAE: 27.0891986534017\n",
      "MSE: 1371.0038364436639\n",
      "\n"
     ]
    }
   ],
   "source": [
    "# Print scores for main data\n",
    "print(\"Scores for main data:\")\n",
    "print(\"Training Score:\", best_model.score(X_train, y_train))\n",
    "print(\"Testing Score:\", best_model.score(X_test, y_test))\n",
    "print(\"R2 Score:\", r2_score(y_test, best_model.predict(X_test)))\n",
    "print(\"MAE:\", mean_absolute_error(y_test, best_model.predict(X_test)))\n",
    "print(\"MSE:\", mean_squared_error(y_test, best_model.predict(X_test)))\n",
    "print()"
   ]
  },
  {
   "cell_type": "code",
   "execution_count": 17,
   "id": "f6f0a9a2-a88d-4e3a-91d9-76b2af535fbf",
   "metadata": {},
   "outputs": [
    {
     "name": "stdout",
     "output_type": "stream",
     "text": [
      "Scores for sample data:\n",
      "Training Score: 0.881743728340207\n",
      "Testing Score: 1.0\n",
      "R2 Score: 0.881743728340207\n",
      "MAE: 25.07485299621758\n",
      "MSE: 1035.6987746202374\n"
     ]
    }
   ],
   "source": [
    "# Print scores for sample data\n",
    "print(\"Scores for sample data:\")\n",
    "print(\"Training Score:\", best_model.score(X_sample, y_sample))\n",
    "print(\"Testing Score:\", best_model.score(X_sample, y_pred_sample))\n",
    "print(\"R2 Score:\", r2_score(y_sample, y_pred_sample))\n",
    "print(\"MAE:\", mean_absolute_error(y_sample, y_pred_sample))\n",
    "print(\"MSE:\", mean_squared_error(y_sample, y_pred_sample))"
   ]
  },
  {
   "cell_type": "code",
   "execution_count": null,
   "id": "a4613238-9f65-4a35-b390-4fc488a8ad5c",
   "metadata": {},
   "outputs": [],
   "source": []
  }
 ],
 "metadata": {
  "kernelspec": {
   "display_name": "Python 3 (ipykernel)",
   "language": "python",
   "name": "python3"
  },
  "language_info": {
   "codemirror_mode": {
    "name": "ipython",
    "version": 3
   },
   "file_extension": ".py",
   "mimetype": "text/x-python",
   "name": "python",
   "nbconvert_exporter": "python",
   "pygments_lexer": "ipython3",
   "version": "3.11.7"
  }
 },
 "nbformat": 4,
 "nbformat_minor": 5
}
